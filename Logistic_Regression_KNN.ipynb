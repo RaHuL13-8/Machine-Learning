{
 "cells": [
  {
   "cell_type": "code",
   "execution_count": 3,
   "id": "a6c10069",
   "metadata": {},
   "outputs": [],
   "source": [
    "import pandas as pd\n",
    "import numpy as np\n",
    "from sklearn.model_selection import train_test_split\n",
    "from sklearn.metrics import confusion_matrix\n",
    "from sklearn.linear_model import LogisticRegression\n",
    "from sklearn import preprocessing\n",
    "from sklearn.preprocessing import LabelEncoder\n",
    "import seaborn as sns\n",
    "from sklearn.neighbors import KNeighborsClassifier as KNN\n",
    "import matplotlib.pyplot  as plt\n"
   ]
  },
  {
   "cell_type": "code",
   "execution_count": 4,
   "id": "6c102298",
   "metadata": {},
   "outputs": [
    {
     "data": {
      "text/html": [
       "<div>\n",
       "<style scoped>\n",
       "    .dataframe tbody tr th:only-of-type {\n",
       "        vertical-align: middle;\n",
       "    }\n",
       "\n",
       "    .dataframe tbody tr th {\n",
       "        vertical-align: top;\n",
       "    }\n",
       "\n",
       "    .dataframe thead th {\n",
       "        text-align: right;\n",
       "    }\n",
       "</style>\n",
       "<table border=\"1\" class=\"dataframe\">\n",
       "  <thead>\n",
       "    <tr style=\"text-align: right;\">\n",
       "      <th></th>\n",
       "      <th>Id</th>\n",
       "      <th>SepalLengthCm</th>\n",
       "      <th>SepalWidthCm</th>\n",
       "      <th>PetalLengthCm</th>\n",
       "      <th>PetalWidthCm</th>\n",
       "      <th>Species</th>\n",
       "    </tr>\n",
       "  </thead>\n",
       "  <tbody>\n",
       "    <tr>\n",
       "      <th>0</th>\n",
       "      <td>1</td>\n",
       "      <td>5.1</td>\n",
       "      <td>3.5</td>\n",
       "      <td>1.4</td>\n",
       "      <td>0.2</td>\n",
       "      <td>Iris-setosa</td>\n",
       "    </tr>\n",
       "    <tr>\n",
       "      <th>1</th>\n",
       "      <td>2</td>\n",
       "      <td>4.9</td>\n",
       "      <td>3.0</td>\n",
       "      <td>1.4</td>\n",
       "      <td>0.2</td>\n",
       "      <td>Iris-setosa</td>\n",
       "    </tr>\n",
       "    <tr>\n",
       "      <th>2</th>\n",
       "      <td>3</td>\n",
       "      <td>4.7</td>\n",
       "      <td>3.2</td>\n",
       "      <td>1.3</td>\n",
       "      <td>0.2</td>\n",
       "      <td>Iris-setosa</td>\n",
       "    </tr>\n",
       "    <tr>\n",
       "      <th>3</th>\n",
       "      <td>4</td>\n",
       "      <td>4.6</td>\n",
       "      <td>3.1</td>\n",
       "      <td>1.5</td>\n",
       "      <td>0.2</td>\n",
       "      <td>Iris-setosa</td>\n",
       "    </tr>\n",
       "    <tr>\n",
       "      <th>4</th>\n",
       "      <td>5</td>\n",
       "      <td>5.0</td>\n",
       "      <td>3.6</td>\n",
       "      <td>1.4</td>\n",
       "      <td>0.2</td>\n",
       "      <td>Iris-setosa</td>\n",
       "    </tr>\n",
       "    <tr>\n",
       "      <th>...</th>\n",
       "      <td>...</td>\n",
       "      <td>...</td>\n",
       "      <td>...</td>\n",
       "      <td>...</td>\n",
       "      <td>...</td>\n",
       "      <td>...</td>\n",
       "    </tr>\n",
       "    <tr>\n",
       "      <th>145</th>\n",
       "      <td>146</td>\n",
       "      <td>6.7</td>\n",
       "      <td>3.0</td>\n",
       "      <td>5.2</td>\n",
       "      <td>2.3</td>\n",
       "      <td>Iris-virginica</td>\n",
       "    </tr>\n",
       "    <tr>\n",
       "      <th>146</th>\n",
       "      <td>147</td>\n",
       "      <td>6.3</td>\n",
       "      <td>2.5</td>\n",
       "      <td>5.0</td>\n",
       "      <td>1.9</td>\n",
       "      <td>Iris-virginica</td>\n",
       "    </tr>\n",
       "    <tr>\n",
       "      <th>147</th>\n",
       "      <td>148</td>\n",
       "      <td>6.5</td>\n",
       "      <td>3.0</td>\n",
       "      <td>5.2</td>\n",
       "      <td>2.0</td>\n",
       "      <td>Iris-virginica</td>\n",
       "    </tr>\n",
       "    <tr>\n",
       "      <th>148</th>\n",
       "      <td>149</td>\n",
       "      <td>6.2</td>\n",
       "      <td>3.4</td>\n",
       "      <td>5.4</td>\n",
       "      <td>2.3</td>\n",
       "      <td>Iris-virginica</td>\n",
       "    </tr>\n",
       "    <tr>\n",
       "      <th>149</th>\n",
       "      <td>150</td>\n",
       "      <td>5.9</td>\n",
       "      <td>3.0</td>\n",
       "      <td>5.1</td>\n",
       "      <td>1.8</td>\n",
       "      <td>Iris-virginica</td>\n",
       "    </tr>\n",
       "  </tbody>\n",
       "</table>\n",
       "<p>150 rows × 6 columns</p>\n",
       "</div>"
      ],
      "text/plain": [
       "      Id  SepalLengthCm  SepalWidthCm  PetalLengthCm  PetalWidthCm  \\\n",
       "0      1            5.1           3.5            1.4           0.2   \n",
       "1      2            4.9           3.0            1.4           0.2   \n",
       "2      3            4.7           3.2            1.3           0.2   \n",
       "3      4            4.6           3.1            1.5           0.2   \n",
       "4      5            5.0           3.6            1.4           0.2   \n",
       "..   ...            ...           ...            ...           ...   \n",
       "145  146            6.7           3.0            5.2           2.3   \n",
       "146  147            6.3           2.5            5.0           1.9   \n",
       "147  148            6.5           3.0            5.2           2.0   \n",
       "148  149            6.2           3.4            5.4           2.3   \n",
       "149  150            5.9           3.0            5.1           1.8   \n",
       "\n",
       "            Species  \n",
       "0       Iris-setosa  \n",
       "1       Iris-setosa  \n",
       "2       Iris-setosa  \n",
       "3       Iris-setosa  \n",
       "4       Iris-setosa  \n",
       "..              ...  \n",
       "145  Iris-virginica  \n",
       "146  Iris-virginica  \n",
       "147  Iris-virginica  \n",
       "148  Iris-virginica  \n",
       "149  Iris-virginica  \n",
       "\n",
       "[150 rows x 6 columns]"
      ]
     },
     "execution_count": 4,
     "metadata": {},
     "output_type": "execute_result"
    }
   ],
   "source": [
    "df = pd.read_csv(\"iris.csv\")\n",
    "df"
   ]
  },
  {
   "cell_type": "code",
   "execution_count": null,
   "id": "6c9fbc38",
   "metadata": {},
   "outputs": [],
   "source": [
    "'''\n",
    "---This dataset is best known for pattern recognition\n",
    "---Predicted attribute: class of iris plant.\n",
    "--- There are 4 attributes as follows:\n",
    "1. sepal length in cm\n",
    "2. sepal width in cm\n",
    "3. petal length in cm\n",
    "4. petal width in cm\n",
    "5. class:\n",
    "-- Iris Setosa\n",
    "-- Iris Versicolour\n",
    "-- Iris Virginica'''"
   ]
  },
  {
   "cell_type": "code",
   "execution_count": 5,
   "id": "9c54729c",
   "metadata": {},
   "outputs": [],
   "source": [
    "#Use the IRIS data set to build a logistic regression model (using sklearn) and predict the class label\n",
    "#‘Species’. Divide the dataset into training and test set (70,30) using train_test_split method in sklearn. \n",
    "df = df.drop(columns='Id', axis=1) "
   ]
  },
  {
   "cell_type": "code",
   "execution_count": 6,
   "id": "717e8a93",
   "metadata": {},
   "outputs": [
    {
     "data": {
      "text/plain": [
       "Iris-setosa        50\n",
       "Iris-versicolor    50\n",
       "Iris-virginica     50\n",
       "Name: Species, dtype: int64"
      ]
     },
     "execution_count": 6,
     "metadata": {},
     "output_type": "execute_result"
    }
   ],
   "source": [
    "df['Species'].value_counts()"
   ]
  },
  {
   "cell_type": "code",
   "execution_count": 7,
   "id": "d010f5bc",
   "metadata": {},
   "outputs": [],
   "source": [
    "le=LabelEncoder()\n",
    "df['Species']=le.fit_transform(df['Species'])\n"
   ]
  },
  {
   "cell_type": "code",
   "execution_count": 8,
   "id": "76075bce",
   "metadata": {},
   "outputs": [
    {
     "name": "stdout",
     "output_type": "stream",
     "text": [
      "(105,)\n"
     ]
    }
   ],
   "source": [
    "X = df.drop(columns='Species', axis=1) \n",
    "y = df.Species.values\n",
    "\n",
    "x_train, x_test, y_train, y_test = train_test_split(X, y, test_size=0.3, random_state=1)\n",
    "print(y_train.shape)"
   ]
  },
  {
   "cell_type": "code",
   "execution_count": 9,
   "id": "29f128da",
   "metadata": {},
   "outputs": [],
   "source": [
    "data_scaler_minmax = preprocessing.MinMaxScaler(feature_range=(0,1))\n",
    "x_train = data_scaler_minmax.fit_transform(x_train)\n",
    "x_test = data_scaler_minmax.fit_transform(x_test)"
   ]
  },
  {
   "cell_type": "code",
   "execution_count": 10,
   "id": "0389ae70",
   "metadata": {},
   "outputs": [
    {
     "name": "stdout",
     "output_type": "stream",
     "text": [
      "(45,)\n"
     ]
    }
   ],
   "source": [
    "logisticRegr = LogisticRegression()\n",
    "logisticRegr.fit(x_train, y_train)\n",
    "logisticRegr.predict(x_test[0].reshape(1,-1))\n",
    "predictions = logisticRegr.predict(x_test)\n",
    "print(predictions.shape)\n"
   ]
  },
  {
   "cell_type": "code",
   "execution_count": 11,
   "id": "29ac6502",
   "metadata": {},
   "outputs": [
    {
     "name": "stdout",
     "output_type": "stream",
     "text": [
      "0.9111111111111111\n"
     ]
    }
   ],
   "source": [
    "#Analysis and visualize the performance of the classifier using metrics, confusion matrix .\n",
    "score = logisticRegr.score(x_test, y_test)\n",
    "print(score)"
   ]
  },
  {
   "cell_type": "code",
   "execution_count": 12,
   "id": "94535513",
   "metadata": {},
   "outputs": [
    {
     "name": "stdout",
     "output_type": "stream",
     "text": [
      "[[14  0  0]\n",
      " [ 0 15  3]\n",
      " [ 0  1 12]]\n"
     ]
    }
   ],
   "source": [
    "y_pred=logisticRegr.predict(x_test)\n",
    "confusion_mat=confusion_matrix(y_test,y_pred)\n",
    "print(confusion_mat)"
   ]
  },
  {
   "cell_type": "code",
   "execution_count": 13,
   "id": "f11f71f6",
   "metadata": {},
   "outputs": [
    {
     "name": "stdout",
     "output_type": "stream",
     "text": [
      "0.9111111111111111\n"
     ]
    }
   ],
   "source": [
    "Accuracy=(confusion_mat[0][0]+confusion_mat[1][1]+confusion_mat[2][2])/np.sum(confusion_mat[:,:])\n",
    "print(Accuracy)"
   ]
  },
  {
   "cell_type": "code",
   "execution_count": 14,
   "id": "174a10cc",
   "metadata": {},
   "outputs": [
    {
     "name": "stdout",
     "output_type": "stream",
     "text": [
      "For k: 2 Test Accuracy: 0.9555555555555556\n",
      "For k: 3 Test Accuracy: 0.9555555555555556\n",
      "For k: 4 Test Accuracy: 0.9555555555555556\n",
      "For k: 5 Test Accuracy: 0.9333333333333333\n",
      "For k: 6 Test Accuracy: 0.9333333333333333\n",
      "For k: 7 Test Accuracy: 0.9333333333333333\n",
      "For k: 8 Test Accuracy: 0.9333333333333333\n",
      "For k: 9 Test Accuracy: 0.9333333333333333\n",
      "For k: 10 Test Accuracy: 0.9333333333333333\n",
      "For k: 11 Test Accuracy: 0.9333333333333333\n",
      "For k: 12 Test Accuracy: 0.9333333333333333\n",
      "For k: 13 Test Accuracy: 0.9333333333333333\n",
      "For k: 14 Test Accuracy: 0.9333333333333333\n",
      "For k: 15 Test Accuracy: 0.9333333333333333\n",
      "For k: 16 Test Accuracy: 0.9333333333333333\n",
      "For k: 17 Test Accuracy: 0.9555555555555556\n",
      "For k: 18 Test Accuracy: 0.9555555555555556\n",
      "For k: 19 Test Accuracy: 0.9555555555555556\n",
      "For k: 20 Test Accuracy: 0.9555555555555556\n"
     ]
    },
    {
     "data": {
      "image/png": "[encoded data removed]",
      "text/plain": [
       "<Figure size 432x288 with 1 Axes>"
      ]
     },
     "metadata": {
      "needs_background": "light"
     },
     "output_type": "display_data"
    },
    {
     "name": "stdout",
     "output_type": "stream",
     "text": [
      "As KNN classifiers provides 0.95 accuracy compared to 0.91 of logistic regression this shows that KNN classifier is a better algorithm for this dataset\n"
     ]
    }
   ],
   "source": [
    "'''Use the IRIS data and KNeighborsClassifier (using sklearn) and predict the class label ‘Species’ for\n",
    "k value between 2 and 20. Divide the dataset into training and test set (70,30) using train_test_split\n",
    "method in sklearn'''\n",
    "\n",
    "'''Comment on the classifier (Logistic Regression or KNeighborsClassifier ) that has a better\n",
    "performance for the IRIS dataset.'''\n",
    "\n",
    "\n",
    "K=[]\n",
    "test_acc=[]\n",
    "\n",
    "for k in range(2,21):\n",
    "    model=KNN(n_neighbors=k)\n",
    "    model.fit(x_train,y_train)\n",
    "    y_pred=model.predict(x_test)\n",
    "    cf_mat=confusion_matrix(y_test,y_pred)\n",
    "    test_accuracy=np.trace(cf_mat)/np.sum(cf_mat)\n",
    "    print(\"For k:\",k,\"Test Accuracy:\",test_accuracy)\n",
    "    K.append(k)\n",
    "    test_acc.append(test_accuracy)\n",
    "plt.plot(test_acc)\n",
    "plt.show()\n",
    "print(\"As KNN classifiers provides 0.95 accuracy compared to 0.91 of logistic regression this shows that KNN classifier is a better algorithm for this dataset\")"
   ]
  },
  {
   "cell_type": "code",
   "execution_count": null,
   "id": "9dc5bcc9",
   "metadata": {},
   "outputs": [],
   "source": [
    "'''Identify the best k ( for k between 2 and 20) for the model built.'''\n",
    "k=3"
   ]
  }
 ],
 "metadata": {
  "kernelspec": {
   "display_name": "Python 3 (ipykernel)",
   "language": "python",
   "name": "python3"
  },
  "language_info": {
   "codemirror_mode": {
    "name": "ipython",
    "version": 3
   },
   "file_extension": ".py",
   "mimetype": "text/x-python",
   "name": "python",
   "nbconvert_exporter": "python",
   "pygments_lexer": "ipython3",
   "version": "3.9.2"
  }
 },
 "nbformat": 4,
 "nbformat_minor": 5
}
