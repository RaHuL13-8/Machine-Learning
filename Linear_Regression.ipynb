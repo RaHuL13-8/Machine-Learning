{
 "cells": [
  {
   "cell_type": "code",
   "execution_count": 805,
   "id": "c91864af",
   "metadata": {},
   "outputs": [],
   "source": [
    "import pandas as pd\n",
    "import numpy as np\n",
    "import matplotlib.pyplot as plt\n",
    "import seaborn as sns\n",
    "import math as m\n",
    "from scipy import stats\n",
    "import sklearn.metrics as metrics \n",
    "from sklearn.model_selection import train_test_split\n",
    "from sklearn.metrics import r2_score\n",
    "import sklearn"
   ]
  },
  {
   "cell_type": "code",
   "execution_count": 806,
   "id": "aa287c2f",
   "metadata": {},
   "outputs": [
    {
     "data": {
      "text/html": [
       "<div>\n",
       "<style scoped>\n",
       "    .dataframe tbody tr th:only-of-type {\n",
       "        vertical-align: middle;\n",
       "    }\n",
       "\n",
       "    .dataframe tbody tr th {\n",
       "        vertical-align: top;\n",
       "    }\n",
       "\n",
       "    .dataframe thead th {\n",
       "        text-align: right;\n",
       "    }\n",
       "</style>\n",
       "<table border=\"1\" class=\"dataframe\">\n",
       "  <thead>\n",
       "    <tr style=\"text-align: right;\">\n",
       "      <th></th>\n",
       "      <th>model</th>\n",
       "      <th>mpg</th>\n",
       "      <th>cyl</th>\n",
       "      <th>disp</th>\n",
       "      <th>hp</th>\n",
       "      <th>drat</th>\n",
       "      <th>wt</th>\n",
       "      <th>qsec</th>\n",
       "      <th>vs</th>\n",
       "      <th>am</th>\n",
       "      <th>gear</th>\n",
       "      <th>carb</th>\n",
       "    </tr>\n",
       "  </thead>\n",
       "  <tbody>\n",
       "    <tr>\n",
       "      <th>0</th>\n",
       "      <td>Mazda RX4</td>\n",
       "      <td>21.0</td>\n",
       "      <td>6</td>\n",
       "      <td>160.0</td>\n",
       "      <td>110</td>\n",
       "      <td>3.90</td>\n",
       "      <td>2.620</td>\n",
       "      <td>16.46</td>\n",
       "      <td>0</td>\n",
       "      <td>1</td>\n",
       "      <td>4</td>\n",
       "      <td>4</td>\n",
       "    </tr>\n",
       "    <tr>\n",
       "      <th>1</th>\n",
       "      <td>Mazda RX4 Wag</td>\n",
       "      <td>21.0</td>\n",
       "      <td>6</td>\n",
       "      <td>160.0</td>\n",
       "      <td>110</td>\n",
       "      <td>3.90</td>\n",
       "      <td>2.875</td>\n",
       "      <td>17.02</td>\n",
       "      <td>0</td>\n",
       "      <td>1</td>\n",
       "      <td>4</td>\n",
       "      <td>4</td>\n",
       "    </tr>\n",
       "    <tr>\n",
       "      <th>2</th>\n",
       "      <td>Datsun 710</td>\n",
       "      <td>22.8</td>\n",
       "      <td>4</td>\n",
       "      <td>108.0</td>\n",
       "      <td>93</td>\n",
       "      <td>3.85</td>\n",
       "      <td>2.320</td>\n",
       "      <td>18.61</td>\n",
       "      <td>1</td>\n",
       "      <td>1</td>\n",
       "      <td>4</td>\n",
       "      <td>1</td>\n",
       "    </tr>\n",
       "    <tr>\n",
       "      <th>3</th>\n",
       "      <td>Hornet 4 Drive</td>\n",
       "      <td>21.4</td>\n",
       "      <td>6</td>\n",
       "      <td>258.0</td>\n",
       "      <td>110</td>\n",
       "      <td>3.08</td>\n",
       "      <td>3.215</td>\n",
       "      <td>19.44</td>\n",
       "      <td>1</td>\n",
       "      <td>0</td>\n",
       "      <td>3</td>\n",
       "      <td>1</td>\n",
       "    </tr>\n",
       "    <tr>\n",
       "      <th>4</th>\n",
       "      <td>Hornet Sportabout</td>\n",
       "      <td>18.7</td>\n",
       "      <td>8</td>\n",
       "      <td>360.0</td>\n",
       "      <td>175</td>\n",
       "      <td>3.15</td>\n",
       "      <td>3.440</td>\n",
       "      <td>17.02</td>\n",
       "      <td>0</td>\n",
       "      <td>0</td>\n",
       "      <td>3</td>\n",
       "      <td>2</td>\n",
       "    </tr>\n",
       "    <tr>\n",
       "      <th>5</th>\n",
       "      <td>Valiant</td>\n",
       "      <td>18.1</td>\n",
       "      <td>6</td>\n",
       "      <td>225.0</td>\n",
       "      <td>105</td>\n",
       "      <td>2.76</td>\n",
       "      <td>3.460</td>\n",
       "      <td>20.22</td>\n",
       "      <td>1</td>\n",
       "      <td>0</td>\n",
       "      <td>3</td>\n",
       "      <td>1</td>\n",
       "    </tr>\n",
       "    <tr>\n",
       "      <th>6</th>\n",
       "      <td>Duster 360</td>\n",
       "      <td>14.3</td>\n",
       "      <td>8</td>\n",
       "      <td>360.0</td>\n",
       "      <td>245</td>\n",
       "      <td>3.21</td>\n",
       "      <td>3.570</td>\n",
       "      <td>15.84</td>\n",
       "      <td>0</td>\n",
       "      <td>0</td>\n",
       "      <td>3</td>\n",
       "      <td>4</td>\n",
       "    </tr>\n",
       "    <tr>\n",
       "      <th>7</th>\n",
       "      <td>Merc 240D</td>\n",
       "      <td>24.4</td>\n",
       "      <td>4</td>\n",
       "      <td>146.7</td>\n",
       "      <td>62</td>\n",
       "      <td>3.69</td>\n",
       "      <td>3.190</td>\n",
       "      <td>20.00</td>\n",
       "      <td>1</td>\n",
       "      <td>0</td>\n",
       "      <td>4</td>\n",
       "      <td>2</td>\n",
       "    </tr>\n",
       "    <tr>\n",
       "      <th>8</th>\n",
       "      <td>Merc 230</td>\n",
       "      <td>22.8</td>\n",
       "      <td>4</td>\n",
       "      <td>140.8</td>\n",
       "      <td>95</td>\n",
       "      <td>3.92</td>\n",
       "      <td>3.150</td>\n",
       "      <td>22.90</td>\n",
       "      <td>1</td>\n",
       "      <td>0</td>\n",
       "      <td>4</td>\n",
       "      <td>2</td>\n",
       "    </tr>\n",
       "    <tr>\n",
       "      <th>9</th>\n",
       "      <td>Merc 280</td>\n",
       "      <td>19.2</td>\n",
       "      <td>6</td>\n",
       "      <td>167.6</td>\n",
       "      <td>123</td>\n",
       "      <td>3.92</td>\n",
       "      <td>3.440</td>\n",
       "      <td>18.30</td>\n",
       "      <td>1</td>\n",
       "      <td>0</td>\n",
       "      <td>4</td>\n",
       "      <td>4</td>\n",
       "    </tr>\n",
       "  </tbody>\n",
       "</table>\n",
       "</div>"
      ],
      "text/plain": [
       "               model   mpg  cyl   disp   hp  drat     wt   qsec  vs  am  gear  \\\n",
       "0          Mazda RX4  21.0    6  160.0  110  3.90  2.620  16.46   0   1     4   \n",
       "1      Mazda RX4 Wag  21.0    6  160.0  110  3.90  2.875  17.02   0   1     4   \n",
       "2         Datsun 710  22.8    4  108.0   93  3.85  2.320  18.61   1   1     4   \n",
       "3     Hornet 4 Drive  21.4    6  258.0  110  3.08  3.215  19.44   1   0     3   \n",
       "4  Hornet Sportabout  18.7    8  360.0  175  3.15  3.440  17.02   0   0     3   \n",
       "5            Valiant  18.1    6  225.0  105  2.76  3.460  20.22   1   0     3   \n",
       "6         Duster 360  14.3    8  360.0  245  3.21  3.570  15.84   0   0     3   \n",
       "7          Merc 240D  24.4    4  146.7   62  3.69  3.190  20.00   1   0     4   \n",
       "8           Merc 230  22.8    4  140.8   95  3.92  3.150  22.90   1   0     4   \n",
       "9           Merc 280  19.2    6  167.6  123  3.92  3.440  18.30   1   0     4   \n",
       "\n",
       "   carb  \n",
       "0     4  \n",
       "1     4  \n",
       "2     1  \n",
       "3     1  \n",
       "4     2  \n",
       "5     1  \n",
       "6     4  \n",
       "7     2  \n",
       "8     2  \n",
       "9     4  "
      ]
     },
     "execution_count": 806,
     "metadata": {},
     "output_type": "execute_result"
    }
   ],
   "source": [
    "df=pd.read_csv(\"mtcars.csv\")\n",
    "df.head(10)"
   ]
  },
  {
   "cell_type": "code",
   "execution_count": 807,
   "id": "33fb6bbc",
   "metadata": {},
   "outputs": [
    {
     "data": {
      "text/html": [
       "<div>\n",
       "<style scoped>\n",
       "    .dataframe tbody tr th:only-of-type {\n",
       "        vertical-align: middle;\n",
       "    }\n",
       "\n",
       "    .dataframe tbody tr th {\n",
       "        vertical-align: top;\n",
       "    }\n",
       "\n",
       "    .dataframe thead th {\n",
       "        text-align: right;\n",
       "    }\n",
       "</style>\n",
       "<table border=\"1\" class=\"dataframe\">\n",
       "  <thead>\n",
       "    <tr style=\"text-align: right;\">\n",
       "      <th></th>\n",
       "      <th>mpg</th>\n",
       "      <th>cyl</th>\n",
       "      <th>disp</th>\n",
       "      <th>hp</th>\n",
       "      <th>drat</th>\n",
       "      <th>wt</th>\n",
       "      <th>qsec</th>\n",
       "      <th>vs</th>\n",
       "      <th>am</th>\n",
       "      <th>gear</th>\n",
       "      <th>carb</th>\n",
       "    </tr>\n",
       "  </thead>\n",
       "  <tbody>\n",
       "    <tr>\n",
       "      <th>count</th>\n",
       "      <td>32.000000</td>\n",
       "      <td>32.000000</td>\n",
       "      <td>32.000000</td>\n",
       "      <td>32.000000</td>\n",
       "      <td>32.000000</td>\n",
       "      <td>32.000000</td>\n",
       "      <td>32.000000</td>\n",
       "      <td>32.000000</td>\n",
       "      <td>32.000000</td>\n",
       "      <td>32.000000</td>\n",
       "      <td>32.0000</td>\n",
       "    </tr>\n",
       "    <tr>\n",
       "      <th>mean</th>\n",
       "      <td>20.090625</td>\n",
       "      <td>6.187500</td>\n",
       "      <td>230.721875</td>\n",
       "      <td>146.687500</td>\n",
       "      <td>3.596563</td>\n",
       "      <td>3.217250</td>\n",
       "      <td>17.848750</td>\n",
       "      <td>0.437500</td>\n",
       "      <td>0.406250</td>\n",
       "      <td>3.687500</td>\n",
       "      <td>2.8125</td>\n",
       "    </tr>\n",
       "    <tr>\n",
       "      <th>std</th>\n",
       "      <td>6.026948</td>\n",
       "      <td>1.785922</td>\n",
       "      <td>123.938694</td>\n",
       "      <td>68.562868</td>\n",
       "      <td>0.534679</td>\n",
       "      <td>0.978457</td>\n",
       "      <td>1.786943</td>\n",
       "      <td>0.504016</td>\n",
       "      <td>0.498991</td>\n",
       "      <td>0.737804</td>\n",
       "      <td>1.6152</td>\n",
       "    </tr>\n",
       "    <tr>\n",
       "      <th>min</th>\n",
       "      <td>10.400000</td>\n",
       "      <td>4.000000</td>\n",
       "      <td>71.100000</td>\n",
       "      <td>52.000000</td>\n",
       "      <td>2.760000</td>\n",
       "      <td>1.513000</td>\n",
       "      <td>14.500000</td>\n",
       "      <td>0.000000</td>\n",
       "      <td>0.000000</td>\n",
       "      <td>3.000000</td>\n",
       "      <td>1.0000</td>\n",
       "    </tr>\n",
       "    <tr>\n",
       "      <th>25%</th>\n",
       "      <td>15.425000</td>\n",
       "      <td>4.000000</td>\n",
       "      <td>120.825000</td>\n",
       "      <td>96.500000</td>\n",
       "      <td>3.080000</td>\n",
       "      <td>2.581250</td>\n",
       "      <td>16.892500</td>\n",
       "      <td>0.000000</td>\n",
       "      <td>0.000000</td>\n",
       "      <td>3.000000</td>\n",
       "      <td>2.0000</td>\n",
       "    </tr>\n",
       "    <tr>\n",
       "      <th>50%</th>\n",
       "      <td>19.200000</td>\n",
       "      <td>6.000000</td>\n",
       "      <td>196.300000</td>\n",
       "      <td>123.000000</td>\n",
       "      <td>3.695000</td>\n",
       "      <td>3.325000</td>\n",
       "      <td>17.710000</td>\n",
       "      <td>0.000000</td>\n",
       "      <td>0.000000</td>\n",
       "      <td>4.000000</td>\n",
       "      <td>2.0000</td>\n",
       "    </tr>\n",
       "    <tr>\n",
       "      <th>75%</th>\n",
       "      <td>22.800000</td>\n",
       "      <td>8.000000</td>\n",
       "      <td>326.000000</td>\n",
       "      <td>180.000000</td>\n",
       "      <td>3.920000</td>\n",
       "      <td>3.610000</td>\n",
       "      <td>18.900000</td>\n",
       "      <td>1.000000</td>\n",
       "      <td>1.000000</td>\n",
       "      <td>4.000000</td>\n",
       "      <td>4.0000</td>\n",
       "    </tr>\n",
       "    <tr>\n",
       "      <th>max</th>\n",
       "      <td>33.900000</td>\n",
       "      <td>8.000000</td>\n",
       "      <td>472.000000</td>\n",
       "      <td>335.000000</td>\n",
       "      <td>4.930000</td>\n",
       "      <td>5.424000</td>\n",
       "      <td>22.900000</td>\n",
       "      <td>1.000000</td>\n",
       "      <td>1.000000</td>\n",
       "      <td>5.000000</td>\n",
       "      <td>8.0000</td>\n",
       "    </tr>\n",
       "  </tbody>\n",
       "</table>\n",
       "</div>"
      ],
      "text/plain": [
       "             mpg        cyl        disp          hp       drat         wt  \\\n",
       "count  32.000000  32.000000   32.000000   32.000000  32.000000  32.000000   \n",
       "mean   20.090625   6.187500  230.721875  146.687500   3.596563   3.217250   \n",
       "std     6.026948   1.785922  123.938694   68.562868   0.534679   0.978457   \n",
       "min    10.400000   4.000000   71.100000   52.000000   2.760000   1.513000   \n",
       "25%    15.425000   4.000000  120.825000   96.500000   3.080000   2.581250   \n",
       "50%    19.200000   6.000000  196.300000  123.000000   3.695000   3.325000   \n",
       "75%    22.800000   8.000000  326.000000  180.000000   3.920000   3.610000   \n",
       "max    33.900000   8.000000  472.000000  335.000000   4.930000   5.424000   \n",
       "\n",
       "            qsec         vs         am       gear     carb  \n",
       "count  32.000000  32.000000  32.000000  32.000000  32.0000  \n",
       "mean   17.848750   0.437500   0.406250   3.687500   2.8125  \n",
       "std     1.786943   0.504016   0.498991   0.737804   1.6152  \n",
       "min    14.500000   0.000000   0.000000   3.000000   1.0000  \n",
       "25%    16.892500   0.000000   0.000000   3.000000   2.0000  \n",
       "50%    17.710000   0.000000   0.000000   4.000000   2.0000  \n",
       "75%    18.900000   1.000000   1.000000   4.000000   4.0000  \n",
       "max    22.900000   1.000000   1.000000   5.000000   8.0000  "
      ]
     },
     "execution_count": 807,
     "metadata": {},
     "output_type": "execute_result"
    }
   ],
   "source": [
    "df.describe()"
   ]
  },
  {
   "cell_type": "code",
   "execution_count": 808,
   "id": "e4055f97",
   "metadata": {},
   "outputs": [
    {
     "data": {
      "text/plain": [
       "<AxesSubplot:>"
      ]
     },
     "execution_count": 808,
     "metadata": {},
     "output_type": "execute_result"
    },
    {
     "data": {
      "image/png": "[encoded data removed]",
      "text/plain": [
       "<Figure size 432x288 with 1 Axes>"
      ]
     },
     "metadata": {
      "needs_background": "light"
     },
     "output_type": "display_data"
    }
   ],
   "source": [
    "df_1=df[[\"mpg\",\"wt\"]]\n",
    "df_1.boxplot()"
   ]
  },
  {
   "cell_type": "code",
   "execution_count": 809,
   "id": "6d7df924",
   "metadata": {},
   "outputs": [
    {
     "name": "stderr",
     "output_type": "stream",
     "text": [
      "c:\\users\\rahpa\\appdata\\local\\programs\\python\\python39\\lib\\site-packages\\pandas\\core\\frame.py:3607: SettingWithCopyWarning: \n",
      "A value is trying to be set on a copy of a slice from a DataFrame.\n",
      "Try using .loc[row_indexer,col_indexer] = value instead\n",
      "\n",
      "See the caveats in the documentation: https://pandas.pydata.org/pandas-docs/stable/user_guide/indexing.html#returning-a-view-versus-a-copy\n",
      "  self._set_item(key, value)\n"
     ]
    },
    {
     "data": {
      "image/png": "[encoded data removed]",
      "text/plain": [
       "<Figure size 432x288 with 1 Axes>"
      ]
     },
     "metadata": {
      "needs_background": "light"
     },
     "output_type": "display_data"
    }
   ],
   "source": [
    "for i in df_1:\n",
    "    q1=df_1[i].quantile(0.25)\n",
    "    q2=df_1[i].quantile(0.50)\n",
    "    q3=df_1[i].quantile(0.75)\n",
    "    iqr=q3-q1\n",
    "    df_1[i]=np.where(df_1[i]<q1-(1.5*iqr),q2,df_1[i])\n",
    "    df_1[i]=np.where(df_1[i]>q3+(1.5*iqr),q2,df_1[i])\n",
    "df_1.boxplot()\n",
    "plt.show()"
   ]
  },
  {
   "cell_type": "code",
   "execution_count": 810,
   "id": "95d19075",
   "metadata": {},
   "outputs": [
    {
     "name": "stdout",
     "output_type": "stream",
     "text": [
      "26\n",
      "(21,)\n",
      "(11,)\n",
      "(21, 1)\n",
      "(11, 1)\n",
      "Shape of W : (1, 1)\n",
      "Shape of b : (1, 1)\n",
      "\n",
      "Loss = 8.634350855270545\n"
     ]
    }
   ],
   "source": [
    "\n",
    "df_2=df[['wt','mpg']]\n",
    "# df_2=df_1.sample(frac=1)\n",
    "\n",
    "\n",
    "X=df_2[['wt']].values\n",
    "y=df_2['mpg'].values\n",
    "\n",
    "print(round((X.shape[0]*80)/100))\n",
    "X_train, X_test, y_train, y_test = train_test_split(X,y,test_size=1/3, random_state=0) \n",
    "print(y_train.shape)\n",
    "print(y_test.shape)\n",
    "\n",
    "print(X_train.shape)\n",
    "print(X_test.shape)\n",
    "\n",
    "print(\"Shape of W : {}\".format(W.shape))\n",
    "print(\"Shape of b : {}\".format(b.shape))\n",
    "\n",
    "def loss_fn(y_hat, y_train):\n",
    "    return (1/round((X_train.shape[0]*80)/100)) * np.sum((y_hat - y_train)**2)\n",
    "loss = 0\n",
    "for i in range(round((X_train.shape[0]*80)/100)):\n",
    "    y_hat = np.dot(W, X_train[i]) + b\n",
    "    loss += loss_fn(y_hat, y_train[i])\n",
    "print(\"\\nLoss = {}\".format(loss))"
   ]
  },
  {
   "cell_type": "code",
   "execution_count": 811,
   "id": "0fb1e492",
   "metadata": {},
   "outputs": [],
   "source": [
    "#Gradient Descent\n",
    "def Gradient_Descent(X,Y):\n",
    "    loss_history = []\n",
    "    W = np.random.normal(size=(1,1))\n",
    "    b = np.random.normal(size=(1, 1))\n",
    "    learning_rate =   0.05\n",
    "    num_epochs = 100  \n",
    "\n",
    "    for epoch in range(num_epochs): \n",
    "        loss = 0\n",
    "        for i in range(round((X_train.shape[0]*80)/100)):\n",
    "            X_i, y_i = X_train[i].reshape(-1, 1), y_train[i].reshape(-1, 1)\n",
    "\n",
    "            y_hat = np.dot(W, X_i) + b\n",
    "\n",
    "            dL_dy = 2*(y_hat-y_i)\n",
    "\n",
    "            dy_dW = X_i\n",
    "            dy_db = 1\n",
    "\n",
    "            dL_dW = np.dot(dL_dy, dy_dW.T)\n",
    "            dL_db = dL_dy * dy_db\n",
    "\n",
    "            W -= learning_rate * dL_dW\n",
    "            b -= learning_rate * dL_db\n",
    "\n",
    "            loss += loss_fn(y_hat, y_i)\n",
    "\n",
    "        loss_history.append(loss)\n",
    "    return W,b,loss_history\n"
   ]
  },
  {
   "cell_type": "code",
   "execution_count": 812,
   "id": "113ded5d",
   "metadata": {},
   "outputs": [],
   "source": [
    "W,b,loss_history=Gradient_Descent(X_train,y_train)"
   ]
  },
  {
   "cell_type": "code",
   "execution_count": 813,
   "id": "85e34401",
   "metadata": {},
   "outputs": [
    {
     "data": {
      "image/png": "[encoded data removed]",
      "text/plain": [
       "<Figure size 432x288 with 1 Axes>"
      ]
     },
     "metadata": {
      "needs_background": "light"
     },
     "output_type": "display_data"
    }
   ],
   "source": [
    "#Loss vs No. Of Iteration Plot\n",
    "plt.plot(loss_history)\n",
    "plt.show()"
   ]
  },
  {
   "cell_type": "code",
   "execution_count": 814,
   "id": "a164c06b",
   "metadata": {},
   "outputs": [
    {
     "name": "stdout",
     "output_type": "stream",
     "text": [
      "[[5.30196169]]\n"
     ]
    }
   ],
   "source": [
    "#What is the mpg of a car, whose weight is 5.5\n",
    "Xi=5.5\n",
    "y_ans = np.dot(W, Xi) + b\n",
    "print(y_ans)"
   ]
  },
  {
   "cell_type": "code",
   "execution_count": 815,
   "id": "7cf8c68c",
   "metadata": {},
   "outputs": [
    {
     "data": {
      "image/png": "[encoded data removed]",
      "text/plain": [
       "<Figure size 432x288 with 1 Axes>"
      ]
     },
     "metadata": {
      "needs_background": "light"
     },
     "output_type": "display_data"
    }
   ],
   "source": [
    "y_ans=np.dot(W,X_test.T)+b\n",
    "plt.scatter(X_test,y_test)\n",
    "plt.plot(X_test,y_ans.T)\n",
    "plt.show()"
   ]
  },
  {
   "cell_type": "code",
   "execution_count": 816,
   "id": "4547f61e",
   "metadata": {
    "scrolled": true
   },
   "outputs": [
    {
     "name": "stdout",
     "output_type": "stream",
     "text": [
      "RMSE: 3.074794445503173\n"
     ]
    }
   ],
   "source": [
    "#Compute and print accuracy measures such as RMSE and R2 for the test set\n",
    "y_ans = np.dot(W, X_test.T) + b\n",
    "error = m.sqrt((1/(2*(X_test.shape[0]))*np.sum(np.square(y_ans - np.array(y_test)))))\n",
    "print(\"RMSE:\", error)"
   ]
  },
  {
   "cell_type": "code",
   "execution_count": 817,
   "id": "8f828d8f",
   "metadata": {},
   "outputs": [
    {
     "name": "stdout",
     "output_type": "stream",
     "text": [
      "Results by manual calculation:\n",
      "MAE: 3.8521669612223506\n",
      "MSE: 18.90872176419433\n",
      "RMSE: 4.348416006340048\n",
      "R-Squared: 0.7526045714940931\n"
     ]
    }
   ],
   "source": [
    "d = y_test - y_ans\n",
    "mse_f = np.mean(d**2)\n",
    "mae_f = np.mean(abs(d))\n",
    "rmse_f = np.sqrt(mse_f)\n",
    "r2_f = 1-(np.sum(d**2)/np.sum((y_train-np.mean(y_train))**2))\n",
    "\n",
    "print(\"Results by manual calculation:\")\n",
    "print(\"MAE:\",mae_f)\n",
    "print(\"MSE:\", mse_f)\n",
    "print(\"RMSE:\", rmse_f)\n",
    "print(\"R-Squared:\", r2_f)"
   ]
  },
  {
   "cell_type": "code",
   "execution_count": 818,
   "id": "46792d17",
   "metadata": {},
   "outputs": [],
   "source": [
    "#Apply the stochastic gradient descent and mini batch gradient descent algorithms to enhance the accuracy and visualize the cost function\n",
    "def stochastic_model(X,Y,learning_rate,iteration):\n",
    "    m_test=Y.size\n",
    "    m,n=X.shape\n",
    "    theta=np.random.rand(n,1)\n",
    "    cost_list = []\n",
    "    cost=0\n",
    "    for i in range(iteration):\n",
    "        cost=0\n",
    "        for j in range(m):\n",
    "            y_pred=np.dot(X[j],theta).reshape(1,1)\n",
    "            cost=cost+np.square(y_pred-Y[j])\n",
    "            d_theta=np.dot((y_pred-Y[j]).reshape(1,1),(X[j].reshape(1,1)).T)\n",
    "            theta=theta -learning_rate*(d_theta.T)\n",
    "        cost1=cost/m\n",
    "        cost_list.append(cost1)\n",
    "    return theta,cost_list\n",
    "            \n"
   ]
  },
  {
   "cell_type": "code",
   "execution_count": 819,
   "id": "ed8819e1",
   "metadata": {},
   "outputs": [],
   "source": [
    "iterations_stoc = 101\n",
    "learning_rate = 0.001\n",
    "theta_stochastic, loss_stochastic = stochastic_model(X_train, y_train, learning_rate = learning_rate, iteration = iterations_stoc)"
   ]
  },
  {
   "cell_type": "code",
   "execution_count": 820,
   "id": "59a09f7e",
   "metadata": {
    "scrolled": true
   },
   "outputs": [
    {
     "data": {
      "image/png": "[encoded data removed]",
      "text/plain": [
       "<Figure size 432x288 with 1 Axes>"
      ]
     },
     "metadata": {
      "needs_background": "light"
     },
     "output_type": "display_data"
    }
   ],
   "source": [
    "iteration_no = list(range(0,101))\n",
    "plt.plot(iteration_no,np.squeeze(loss_stochastic))\n",
    "plt.ylabel('cost')\n",
    "\n",
    "plt.title('stochastic gradient descent')\n",
    "plt.show()"
   ]
  }
 ],
 "metadata": {
  "kernelspec": {
   "display_name": "Python 3 (ipykernel)",
   "language": "python",
   "name": "python3"
  },
  "language_info": {
   "codemirror_mode": {
    "name": "ipython",
    "version": 3
   },
   "file_extension": ".py",
   "mimetype": "text/x-python",
   "name": "python",
   "nbconvert_exporter": "python",
   "pygments_lexer": "ipython3",
   "version": "3.9.2"
  }
 },
 "nbformat": 4,
 "nbformat_minor": 5
}
